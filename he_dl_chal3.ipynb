{
 "cells": [
  {
   "cell_type": "markdown",
   "metadata": {},
   "source": [
    "# HackerEarth Deep Learning #3\n",
    "Challenge Page: https://www.hackerearth.com/challenge/competitive/deep-learning-3/  \n",
    "\n",
    "fast.ai library setup: https://github.com/fastai/fastai"
   ]
  },
  {
   "cell_type": "code",
   "execution_count": 1,
   "metadata": {},
   "outputs": [],
   "source": [
    "%matplotlib inline"
   ]
  },
  {
   "cell_type": "code",
   "execution_count": 3,
   "metadata": {},
   "outputs": [],
   "source": [
    "import sys\n",
    "import os\n",
    "sys.path.append('/home/rupak/fastai/')\n",
    "from fastai.conv_learner import *\n",
    "from fastai.plots import *\n",
    "from sklearn.metrics import f1_score\n",
    "torch.cuda.set_device(0)"
   ]
  },
  {
   "cell_type": "code",
   "execution_count": 4,
   "metadata": {},
   "outputs": [],
   "source": [
    "DATA_PATH = '/data/rupak/competitions/hacker_dl3_v2/data/'"
   ]
  },
  {
   "cell_type": "code",
   "execution_count": 6,
   "metadata": {},
   "outputs": [],
   "source": [
    "label_csv = f'{DATA_PATH}meta-data/train_v2.csv'\n",
    "n = len(list(open(label_csv)))-1\n",
    "val_idxs = get_cv_idxs(n, val_pct=0.1)"
   ]
  },
  {
   "cell_type": "code",
   "execution_count": 7,
   "metadata": {},
   "outputs": [
    {
     "data": {
      "text/plain": [
       "1260"
      ]
     },
     "execution_count": 7,
     "metadata": {},
     "output_type": "execute_result"
    }
   ],
   "source": [
    "len(val_idxs)"
   ]
  },
  {
   "cell_type": "code",
   "execution_count": 8,
   "metadata": {},
   "outputs": [
    {
     "data": {
      "text/plain": [
       "True"
      ]
     },
     "execution_count": 8,
     "metadata": {},
     "output_type": "execute_result"
    }
   ],
   "source": [
    "torch.backends.cudnn.enabled"
   ]
  },
  {
   "cell_type": "code",
   "execution_count": 9,
   "metadata": {},
   "outputs": [],
   "source": [
    "def f1(preds, targs):\n",
    "    with warnings.catch_warnings():\n",
    "        warnings.simplefilter(\"ignore\")\n",
    "        return f1_score(targs, (preds>0.5), average='micro')"
   ]
  },
  {
   "cell_type": "code",
   "execution_count": 10,
   "metadata": {},
   "outputs": [],
   "source": [
    "def multilabel_accuracy(probs, labels):\n",
    "    probs = probs > 0.5\n",
    "    predicted = probs.cpu().numpy().astype(int)\n",
    "    #print('labels')\n",
    "    #print(labels)\n",
    "    total = len(labels) * 85\n",
    "    correct = (predicted == labels.cpu().numpy().astype(int)).sum()\n",
    "    acc = 100 * correct / total\n",
    "    #print('acc',acc)\n",
    "    return acc\n",
    "def multilabel_accuracy_numpy(probs, labels):\n",
    "    probs = probs > 0.5\n",
    "    predicted = probs.astype(int)\n",
    "    total = len(labels) * 85\n",
    "    correct = (predicted == labels.astype(int)).sum()\n",
    "    acc = 100 * correct / total\n",
    "    #print('acc',acc)\n",
    "    return acc"
   ]
  },
  {
   "cell_type": "code",
   "execution_count": 11,
   "metadata": {},
   "outputs": [],
   "source": [
    "def prepare_submission(test_preds, img_fnames, pred_filename):\n",
    "    writer = open(pred_filename, 'w')\n",
    "    header_line = 'Image_name,attrib_01,attrib_02,attrib_03,attrib_04,attrib_05,attrib_06,attrib_07,attrib_08,attrib_09,attrib_10,attrib_11,attrib_12,attrib_13,attrib_14,attrib_15,attrib_16,attrib_17,attrib_18,attrib_19,attrib_20,attrib_21,attrib_22,attrib_23,attrib_24,attrib_25,attrib_26,attrib_27,attrib_28,attrib_29,attrib_30,attrib_31,attrib_32,attrib_33,attrib_34,attrib_35,attrib_36,attrib_37,attrib_38,attrib_39,attrib_40,attrib_41,attrib_42,attrib_43,attrib_44,attrib_45,attrib_46,attrib_47,attrib_48,attrib_49,attrib_50,attrib_51,attrib_52,attrib_53,attrib_54,attrib_55,attrib_56,attrib_57,attrib_58,attrib_59,attrib_60,attrib_61,attrib_62,attrib_63,attrib_64,attrib_65,attrib_66,attrib_67,attrib_68,attrib_69,attrib_70,attrib_71,attrib_72,attrib_73,attrib_74,attrib_75,attrib_76,attrib_77,attrib_78,attrib_79,attrib_80,attrib_81,attrib_82,attrib_83,attrib_84,attrib_85'\n",
    "    writer.write(header_line+'\\n')\n",
    "    sample_test_submission_file = f'{DATA_PATH}meta-data/test.csv'\n",
    "    img_label_dict = dict()\n",
    "    for img_path, prob in zip(img_fnames, test_preds):\n",
    "        img_path = os.path.basename(img_path)\n",
    "        #line = img_path+','+\",\".join(str(x) for x in prob)+'\\n'\n",
    "        img_label_dict[img_path]=\",\".join(str(x) for x in prob)+'\\n'\n",
    "        #writer.write(line)\n",
    "    reader = open(sample_test_submission_file, 'r')\n",
    "    read_lines = reader.readlines()\n",
    "    for i, read_line in enumerate(read_lines[1:]):\n",
    "        img_name=read_line.strip()\n",
    "        img_labels = img_label_dict[img_name]\n",
    "        writer.write(img_name+','+img_labels)\n",
    "    writer.close()\n",
    "    reader.close()"
   ]
  },
  {
   "cell_type": "code",
   "execution_count": 12,
   "metadata": {},
   "outputs": [],
   "source": [
    "f_model = inception_4 \n",
    "metrics=[f1, multilabel_accuracy]"
   ]
  },
  {
   "cell_type": "code",
   "execution_count": 13,
   "metadata": {},
   "outputs": [],
   "source": [
    "def get_data(sz):\n",
    "    tfms = tfms_from_model(f_model, sz, aug_tfms=transforms_side_on, max_zoom=1.1)\n",
    "    return ImageClassifierData.from_csv(DATA_PATH, 'train_img', label_csv, tfms=tfms,\n",
    "                    suffix='.jpg', val_idxs=val_idxs, test_name='test_img', bs=16)"
   ]
  },
  {
   "cell_type": "code",
   "execution_count": 14,
   "metadata": {},
   "outputs": [],
   "source": [
    "data = get_data(512)"
   ]
  },
  {
   "cell_type": "code",
   "execution_count": 15,
   "metadata": {},
   "outputs": [],
   "source": [
    "learn = ConvLearner.pretrained(f_model, data, metrics=metrics, ps=0.5)"
   ]
  },
  {
   "cell_type": "code",
   "execution_count": 16,
   "metadata": {},
   "outputs": [
    {
     "data": {
      "application/vnd.jupyter.widget-view+json": {
       "model_id": "12e67053aefc4a2dbd6ef7fdef6df384",
       "version_major": 2,
       "version_minor": 0
      },
      "text/plain": [
       "HBox(children=(IntProgress(value=0, description='Epoch', max=1), HTML(value='')))"
      ]
     },
     "metadata": {},
     "output_type": "display_data"
    },
    {
     "name": "stdout",
     "output_type": "stream",
     "text": [
      "epoch      trn_loss   val_loss   f1         multilabel_accuracy \n",
      "    0      0.371206   0.736758   0.860402   90.042017 \n",
      "\n"
     ]
    },
    {
     "data": {
      "image/png": "[encoded data removed]",
      "text/plain": [
       "<Figure size 432x288 with 1 Axes>"
      ]
     },
     "metadata": {},
     "output_type": "display_data"
    }
   ],
   "source": [
    "lrf=learn.lr_find()\n",
    "learn.sched.plot()"
   ]
  },
  {
   "cell_type": "markdown",
   "metadata": {},
   "source": [
    "## Train"
   ]
  },
  {
   "cell_type": "code",
   "execution_count": 17,
   "metadata": {},
   "outputs": [],
   "source": [
    "lr = 0.3"
   ]
  },
  {
   "cell_type": "code",
   "execution_count": 18,
   "metadata": {},
   "outputs": [
    {
     "data": {
      "application/vnd.jupyter.widget-view+json": {
       "model_id": "847a558338a043a19699b67558c287ff",
       "version_major": 2,
       "version_minor": 0
      },
      "text/plain": [
       "HBox(children=(IntProgress(value=0, description='Epoch', max=7), HTML(value='')))"
      ]
     },
     "metadata": {},
     "output_type": "display_data"
    },
    {
     "name": "stdout",
     "output_type": "stream",
     "text": [
      "epoch      trn_loss   val_loss   f1         multilabel_accuracy \n",
      "    0      0.124197   0.06155    0.973024   98.042951 \n",
      "    1      0.10213    0.043666   0.979394   98.503268         \n",
      "    2      0.094157   0.04007    0.981001   98.620915         \n",
      "    3      0.090086   0.037317   0.981843   98.681606         \n",
      "    4      0.080092   0.033635   0.983541   98.802988         \n",
      "    5      0.073293   0.031955   0.984793   98.893557         \n",
      "    6      0.077613   0.031687   0.985097   98.918768         \n",
      "\n"
     ]
    },
    {
     "data": {
      "text/plain": [
       "[array([0.03169]), 0.9850972507071727, 98.91876750700277]"
      ]
     },
     "execution_count": 18,
     "metadata": {},
     "output_type": "execute_result"
    }
   ],
   "source": [
    "learn.fit(lr, 3, cycle_len=1, cycle_mult=2)"
   ]
  },
  {
   "cell_type": "code",
   "execution_count": 19,
   "metadata": {},
   "outputs": [],
   "source": [
    "learn.unfreeze()\n",
    "learn.bn_freeze(True)\n",
    "lrs=np.array([1e-5,1e-4,1e-2])"
   ]
  },
  {
   "cell_type": "code",
   "execution_count": 20,
   "metadata": {},
   "outputs": [
    {
     "data": {
      "application/vnd.jupyter.widget-view+json": {
       "model_id": "aa8a2135b7e448078fefa4145413a023",
       "version_major": 2,
       "version_minor": 0
      },
      "text/plain": [
       "HBox(children=(IntProgress(value=0, description='Epoch', max=7), HTML(value='')))"
      ]
     },
     "metadata": {},
     "output_type": "display_data"
    },
    {
     "name": "stdout",
     "output_type": "stream",
     "text": [
      "epoch      trn_loss   val_loss   f1         multilabel_accuracy \n",
      "    0      0.044472   0.029859   0.985318   98.933707 \n",
      "    1      0.040596   0.028713   0.985392   98.938375         \n",
      "    2      0.036332   0.028438   0.985567   98.951447         \n",
      "    3      0.03417    0.027465   0.986184   98.995331         \n",
      "    4      0.034871   0.027249   0.986256   99.000934         \n",
      "    5      0.032147   0.026999   0.986282   99.002801         \n",
      "    6      0.037767   0.026939   0.986259   99.000934         \n",
      "\n"
     ]
    },
    {
     "data": {
      "text/plain": [
       "[array([0.02694]), 0.9862590727761654, 99.00093370681607]"
      ]
     },
     "execution_count": 20,
     "metadata": {},
     "output_type": "execute_result"
    }
   ],
   "source": [
    "learn.fit(lrs, 3, cycle_len=1, cycle_mult=2)"
   ]
  },
  {
   "cell_type": "code",
   "execution_count": 21,
   "metadata": {},
   "outputs": [
    {
     "name": "stdout",
     "output_type": "stream",
     "text": [
      "Normal validation accuracy 99.00093370681606\n"
     ]
    }
   ],
   "source": [
    "val = learn.predict()\n",
    "probs = val > 0.5\n",
    "labels = data.val_y\n",
    "print('Normal validation accuracy', multilabel_accuracy_numpy(probs, labels))"
   ]
  },
  {
   "cell_type": "code",
   "execution_count": 22,
   "metadata": {},
   "outputs": [
    {
     "name": "stdout",
     "output_type": "stream",
     "text": [
      "TTA validation accuracy 99.11297852474323    \n"
     ]
    }
   ],
   "source": [
    "log_preds,y = learn.TTA()\n",
    "probs = np.mean(log_preds, 0) > 0.5\n",
    "labels = y\n",
    "print('TTA validation accuracy', multilabel_accuracy_numpy(probs, labels))"
   ]
  },
  {
   "cell_type": "code",
   "execution_count": 23,
   "metadata": {},
   "outputs": [
    {
     "data": {
      "application/vnd.jupyter.widget-view+json": {
       "model_id": "8687b7fd66d348ea8478282b8ad2bbc5",
       "version_major": 2,
       "version_minor": 0
      },
      "text/plain": [
       "HBox(children=(IntProgress(value=0, description='Epoch', max=3), HTML(value='')))"
      ]
     },
     "metadata": {},
     "output_type": "display_data"
    },
    {
     "name": "stdout",
     "output_type": "stream",
     "text": [
      "epoch      trn_loss   val_loss   f1         multilabel_accuracy \n",
      "    0      0.034093   0.026439   0.9863     99.003735 \n",
      "    1      0.032119   0.025777   0.987167   99.066293         \n",
      "    2      0.028159   0.024602   0.987842   99.11578          \n",
      "\n"
     ]
    },
    {
     "data": {
      "text/plain": [
       "[array([0.0246]), 0.9878416970001997, 99.1157796451914]"
      ]
     },
     "execution_count": 23,
     "metadata": {},
     "output_type": "execute_result"
    }
   ],
   "source": [
    "lrs = 1e-3\n",
    "learn.fit(lrs, 2, cycle_len=1, cycle_mult=2)"
   ]
  },
  {
   "cell_type": "code",
   "execution_count": 24,
   "metadata": {},
   "outputs": [
    {
     "data": {
      "application/vnd.jupyter.widget-view+json": {
       "model_id": "b27564bb358647acb447c68ed81abff3",
       "version_major": 2,
       "version_minor": 0
      },
      "text/plain": [
       "HBox(children=(IntProgress(value=0, description='Epoch', max=3), HTML(value='')))"
      ]
     },
     "metadata": {},
     "output_type": "display_data"
    },
    {
     "name": "stdout",
     "output_type": "stream",
     "text": [
      "epoch      trn_loss   val_loss   f1         multilabel_accuracy \n",
      "    0      0.02696    0.026317   0.987006   99.056022 \n",
      "    1      0.023798   0.024637   0.988028   99.131653         \n",
      "    2      0.017339   0.024023   0.988241   99.147526         \n",
      "\n"
     ]
    },
    {
     "data": {
      "text/plain": [
       "[array([0.02402]), 0.9882412176796819, 99.14752567693746]"
      ]
     },
     "execution_count": 24,
     "metadata": {},
     "output_type": "execute_result"
    }
   ],
   "source": [
    "lrs = 1e-3\n",
    "learn.fit(lrs, 2, cycle_len=1, cycle_mult=2)"
   ]
  },
  {
   "cell_type": "code",
   "execution_count": 25,
   "metadata": {},
   "outputs": [
    {
     "data": {
      "application/vnd.jupyter.widget-view+json": {
       "model_id": "66d387d014e045dbbe64fbb2c7f0854b",
       "version_major": 2,
       "version_minor": 0
      },
      "text/plain": [
       "HBox(children=(IntProgress(value=0, description='Epoch', max=7), HTML(value='')))"
      ]
     },
     "metadata": {},
     "output_type": "display_data"
    },
    {
     "name": "stdout",
     "output_type": "stream",
     "text": [
      "epoch      trn_loss   val_loss   f1         multilabel_accuracy \n",
      "    0      0.0217     0.023083   0.989227   99.218487 \n",
      "    1      0.021678   0.025257   0.988402   99.159664         \n",
      "    2      0.01817    0.023438   0.989256   99.220355         \n",
      "    3      0.022394   0.023853   0.988973   99.199813         \n",
      "    4      0.017177   0.026798   0.98892    99.194211         \n",
      "    5      0.013649   0.023694   0.990569   99.315593         \n",
      "    6      0.014039   0.023943   0.990325   99.297852         \n",
      "\n"
     ]
    },
    {
     "data": {
      "text/plain": [
       "[array([0.02394]), 0.9903246845991384, 99.29785247432305]"
      ]
     },
     "execution_count": 25,
     "metadata": {},
     "output_type": "execute_result"
    }
   ],
   "source": [
    "lrs = 1e-3\n",
    "learn.fit(lrs, 3, cycle_len=1, cycle_mult=2)"
   ]
  },
  {
   "cell_type": "markdown",
   "metadata": {},
   "source": [
    "## Evaluate on Validation split and Prediction on Test Data"
   ]
  },
  {
   "cell_type": "code",
   "execution_count": 26,
   "metadata": {},
   "outputs": [
    {
     "name": "stdout",
     "output_type": "stream",
     "text": [
      "accuracy 99.3734827264239                    \n"
     ]
    }
   ],
   "source": [
    "log_preds,y = learn.TTA()\n",
    "probs = np.mean(log_preds, 0) > 0.5\n",
    "labels = y\n",
    "print('accuracy', multilabel_accuracy_numpy(probs, labels))"
   ]
  },
  {
   "cell_type": "code",
   "execution_count": 27,
   "metadata": {},
   "outputs": [
    {
     "name": "stdout",
     "output_type": "stream",
     "text": [
      "accuracy 99.30532212885154                   \n"
     ]
    }
   ],
   "source": [
    "log_preds,y = learn.TTA()\n",
    "probs = np.mean(log_preds, 0) > 0.5\n",
    "labels = y\n",
    "print('accuracy', multilabel_accuracy_numpy(probs, labels))"
   ]
  },
  {
   "cell_type": "code",
   "execution_count": 28,
   "metadata": {},
   "outputs": [
    {
     "name": "stdout",
     "output_type": "stream",
     "text": [
      "                                              \r"
     ]
    }
   ],
   "source": [
    "test_preds_tta, y_unk = learn.TTA(is_test=True)\n",
    "test_preds = (np.mean(test_preds_tta, 0) > 0.5).astype(int)\n",
    "prepare_submission(test_preds, data.test_ds.fnames, 'preds/model_submission.csv')"
   ]
  },
  {
   "cell_type": "code",
   "execution_count": null,
   "metadata": {},
   "outputs": [],
   "source": [
    "learn.save('incepv4_512_drop50_run4_finetune1_v3_99.3_99.366')"
   ]
  }
 ],
 "metadata": {
  "kernelspec": {
   "display_name": "Python 3",
   "language": "python",
   "name": "python3"
  },
  "language_info": {
   "codemirror_mode": {
    "name": "ipython",
    "version": 3
   },
   "file_extension": ".py",
   "mimetype": "text/x-python",
   "name": "python",
   "nbconvert_exporter": "python",
   "pygments_lexer": "ipython3",
   "version": "3.6.5"
  }
 },
 "nbformat": 4,
 "nbformat_minor": 2
}
